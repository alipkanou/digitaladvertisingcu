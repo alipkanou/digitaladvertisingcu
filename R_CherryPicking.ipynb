{
 "cells": [
  {
   "cell_type": "markdown",
   "metadata": {},
   "source": [
    "# Cherry Picking the Data\n",
    "## Anton Lipkanou\n",
    "### For solely personal usage"
   ]
  },
  {
   "cell_type": "code",
   "execution_count": null,
   "metadata": {},
   "outputs": [],
   "source": [
    "# Part A. Function, creating the random sample of 2 random variables, based on the normal distribution\n",
    "generate <- function(n){\n",
    "  m1 <- 5 #setting means\n",
    "  m2 <- 10\n",
    "  s1 <- 5 #setting variances\n",
    "  s2 <- 1\n",
    "  X1 <- 0 #setting desired correlation\n",
    "  set.seed(n) #for ability to repeat on different computers, we do set the seed thus will be changing it\n",
    "  dat <- MASS::mvrnorm(256, mu = c(m1, m2), Sigma = matrix(c(s1, X1, X1, s2), ncol = 2, byrow = TRUE), empirical = TRUE) #creating the variables\n",
    "  return(dat)\n",
    "}\n",
    "\n",
    "#part B. Function, comparing correlations between x1 and x2, for last 60/61/.../256 numbers\n",
    "compare <- function(arr) {\n",
    "  totalCorr = cor(arr[,1], arr[,2]); #correlation for the total sample\n",
    "  maxCorr <- 0; \n",
    "  tempCorr <- 0; #finding the maximum correlation\n",
    "  for (n in 60:256) {\n",
    "    tempCorr <- cor(arr[1:n, 1], arr[1:n, 2]);\n",
    "    if (tempCorr > maxCorr){\n",
    "      maxCorr <- tempCorr\n",
    "    }\n",
    "  }\n",
    "  output <- c(totalCorr, maxCorr)\n",
    "  return (output)\n",
    "}\n",
    "\n",
    "#Part C. Function, repeating part B for 1,000 different samples and storing correlations. \n",
    "multiply <- function() {\n",
    "  n <- 122; #for seed\n",
    "  totalCorr <- c(); #dummy vars for storing the correlations\n",
    "  maxCorr <- c();\n",
    "  for (i in 1:1000){ #the main loop - generating 1,000 samples, calculating their correlations, appending to the vectors\n",
    "    n <- n + 1;\n",
    "    arr <- generate(n);\n",
    "    corr <- compare(arr);\n",
    "    totalCorr <- c(totalCorr, corr[1]);\n",
    "    maxCorr <- c(maxCorr, corr[2]);\n",
    "  }\n",
    "  output <- matrix(c(totalCorr, maxCorr), nrow = length(totalCorr)); #summarizing two vectors into the matrix. First column - total corr, second column - max corr\n",
    "  return(output)\n",
    "}\n",
    "\n",
    "#Part C1. Graphing the correlations.\n",
    "graph <- function(mat) {\n",
    "  hist(data[,1], main=\"Total Correlation\", xlab=\"Total Correlation\")\n",
    "  hist(data[,2], main=\"Maximum Correlation\", xlab=\"Maximum Correlation\")\n",
    "}\n",
    "\n",
    "#Final part - finding max possible corr within the sample, with the p-value of ttest being the target variable\n",
    "final <- function(mat) {\n",
    "  minP <- 1;\n",
    "  maxI <- 0\n",
    "  for (i in 2:1000) {\n",
    "    meanT <- t.test(data[1:i,2], mu=0.847, alternative = \"greater\")\n",
    "    meanP <- meanT$p.value\n",
    "    if(meanP < minP) {\n",
    "      minP <- meanP;\n",
    "      maxI <- i;\n",
    "    }\n",
    "  }\n",
    "  return(c(minP, maxI))\n",
    "}"
   ]
  },
  {
   "cell_type": "code",
   "execution_count": null,
   "metadata": {},
   "outputs": [],
   "source": [
    "#main function\n",
    "data <- multiply(); #creating the initial dataset\n",
    "graph(data) #graphing the histogram\n",
    "ttest(data)#running the one-sample ttest"
   ]
  },
  {
   "cell_type": "code",
   "execution_count": null,
   "metadata": {},
   "outputs": [],
   "source": [
    "t.test(data[,1])\n",
    "t.test(data[,2])\n",
    "tTestValuesMAxCorr <- t.test(data[,2]); #running the ttest to determine the possibility for the correlation to be higher than 0.847\n",
    "print(\"P-value, I \")\n",
    "final(data)"
   ]
  },
  {
   "cell_type": "code",
   "execution_count": null,
   "metadata": {},
   "outputs": [],
   "source": []
  }
 ],
 "metadata": {
  "kernelspec": {
   "display_name": "R",
   "language": "R",
   "name": "ir"
  }
 },
 "nbformat": 4,
 "nbformat_minor": 2
}
