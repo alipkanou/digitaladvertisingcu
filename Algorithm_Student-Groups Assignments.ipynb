{
 "cells": [
  {
   "cell_type": "markdown",
   "metadata": {},
   "source": [
    "# Anton Lipkanou\n",
    "## Algorithm to assign student to groups (\"marriage\" problem)\n",
    "### Solely for personal usage"
   ]
  },
  {
   "cell_type": "code",
   "execution_count": 1,
   "metadata": {},
   "outputs": [],
   "source": [
    "import pandas as pd\n",
    "#file is available in repo\n",
    "source=pd.read_csv('145pm.csv', sep=',',header=None)\n",
    "#file info\n",
    "headcount = 22\n",
    "projcount = 13\n",
    "#nm of necessary projects & groups\n",
    "grcnt = 5\n",
    "maxass = 6\n",
    "#copy of source\n",
    "wrktbl = list(source.values.flatten())\n",
    "#best projects\n",
    "bestpr = [[0,0] for x in range(projcount)]"
   ]
  },
  {
   "cell_type": "code",
   "execution_count": 3,
   "metadata": {},
   "outputs": [],
   "source": [
    "#the logic for the algorithm is to first go over !projects! and get the most popular ones; \n",
    "#Then to assign students to their first choice in random order\n",
    "#Then go the second walk through the students array and try to maximize the satisfaction assigning them to second / third choice"
   ]
  },
  {
   "cell_type": "code",
   "execution_count": 4,
   "metadata": {},
   "outputs": [
    {
     "name": "stdout",
     "output_type": "stream",
     "text": [
      "142\n"
     ]
    }
   ],
   "source": [
    "for i in range(projcount):\n",
    "    k = 0 + headcount * projcount * 2 + i + 1\n",
    "    bestpr[i][1] = i\n",
    "    while k < len(wrktbl):\n",
    "        bestpr[i][0] += int(wrktbl[k])\n",
    "        k += headcount\n",
    "bestpr.sort(reverse = True)\n",
    "del (bestpr[grcnt:len(bestpr)])\n",
    "asstable = []\n",
    "k = headcount * projcount\n",
    "while k <= headcount * projcount * 2 - 1:\n",
    "    if wrktbl[k] in (item[1] for item in bestpr):\n",
    "        asstable.append([wrktbl[k - headcount * projcount], wrktbl[k], wrktbl [k + headcount * projcount]])\n",
    "    k += 1\n",
    "asstable.sort()\n",
    "restable = [[\"P\", \"P\", \"P\"] for x in range(headcount)]\n",
    "currproj = 0\n",
    "i = 0\n",
    "while i in range (len (asstable)):\n",
    "    max = 0\n",
    "    for k in range (grcnt):\n",
    "        if (asstable[k+i][2]) > max:\n",
    "                    max = asstable[k+i][2]\n",
    "    for k in range (grcnt):\n",
    "        if (asstable[k+i][2]) == max:\n",
    "            h = 0\n",
    "            prcnt = 0\n",
    "            while h < currproj & currproj < headcount:\n",
    "                if restable[h][1] == asstable[k+i][1]:\n",
    "                    prcnt += 1\n",
    "                h += 1\n",
    "            if prcnt < maxass:\n",
    "                restable[currproj] = asstable[k+i]\n",
    "                currproj += 1\n",
    "                break\n",
    "        k += 1\n",
    "    i += 5\n",
    "\n",
    "\n",
    "i = 0\n",
    "j = 0\n",
    "while j < len(restable):\n",
    "    j += 1\n",
    "    if restable[j][0] == \"P\":\n",
    "        break\n",
    "while i in range (len (asstable)):\n",
    "    if asstable[i][0] not in (item[0] for item in restable):\n",
    "        max = 8\n",
    "        while max > 0:\n",
    "            max -= 1\n",
    "            for k in range (grcnt):\n",
    "                if asstable[i+k][2] == max:\n",
    "                    b = 0\n",
    "                    cb = 0\n",
    "                    while b in range (len(restable)):\n",
    "                        if restable[b][1] == asstable[i+k][1]:\n",
    "                            cb += 1\n",
    "                        b += 1\n",
    "                    if cb < maxass:\n",
    "                        restable[j] = asstable[i+k]\n",
    "                        j += 1\n",
    "                        max = 0\n",
    "    i += 5\n",
    "    \n",
    "sum = 0\n",
    "for i in range (len(restable)):\n",
    "    sum += restable[i][2]\n",
    "print (sum)\n"
   ]
  },
  {
   "cell_type": "code",
   "execution_count": 5,
   "metadata": {},
   "outputs": [],
   "source": [
    "#The total resulting satisfaction rate is 142 out of the theoretical maximum of 154 - 92.2%"
   ]
  },
  {
   "cell_type": "code",
   "execution_count": null,
   "metadata": {},
   "outputs": [],
   "source": []
  }
 ],
 "metadata": {
  "kernelspec": {
   "display_name": "Python 3",
   "language": "python",
   "name": "python3"
  },
  "language_info": {
   "codemirror_mode": {
    "name": "ipython",
    "version": 3
   },
   "file_extension": ".py",
   "mimetype": "text/x-python",
   "name": "python",
   "nbconvert_exporter": "python",
   "pygments_lexer": "ipython3",
   "version": "3.6.5"
  }
 },
 "nbformat": 4,
 "nbformat_minor": 2
}
